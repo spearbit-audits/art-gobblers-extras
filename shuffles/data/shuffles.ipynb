{
 "cells": [
  {
   "cell_type": "code",
   "execution_count": 1,
   "id": "05873a3b-f910-492f-9b9e-b47400fbcc5d",
   "metadata": {},
   "outputs": [],
   "source": [
    "import pandas\n",
    "from pandas import DataFrame\n",
    "import matplotlib.pyplot as plt\n",
    "import numpy as np"
   ]
  },
  {
   "cell_type": "code",
   "execution_count": 2,
   "id": "99bd35e3-68ff-4dc5-83ee-ddfc3b29d014",
   "metadata": {},
   "outputs": [],
   "source": [
    "shuffles = pandas.read_csv(\"shuffles.csv\", header=None, names=range(1,9991))"
   ]
  },
  {
   "cell_type": "code",
   "execution_count": 3,
   "id": "4ddedc5e-1a25-4be8-84e3-ceb87811012d",
   "metadata": {},
   "outputs": [
    {
     "data": {
      "text/html": [
       "<div>\n",
       "<style scoped>\n",
       "    .dataframe tbody tr th:only-of-type {\n",
       "        vertical-align: middle;\n",
       "    }\n",
       "\n",
       "    .dataframe tbody tr th {\n",
       "        vertical-align: top;\n",
       "    }\n",
       "\n",
       "    .dataframe thead th {\n",
       "        text-align: right;\n",
       "    }\n",
       "</style>\n",
       "<table border=\"1\" class=\"dataframe\">\n",
       "  <thead>\n",
       "    <tr style=\"text-align: right;\">\n",
       "      <th></th>\n",
       "      <th>1</th>\n",
       "      <th>2</th>\n",
       "      <th>3</th>\n",
       "      <th>4</th>\n",
       "      <th>5</th>\n",
       "      <th>6</th>\n",
       "      <th>7</th>\n",
       "      <th>8</th>\n",
       "      <th>9</th>\n",
       "      <th>10</th>\n",
       "      <th>...</th>\n",
       "      <th>9981</th>\n",
       "      <th>9982</th>\n",
       "      <th>9983</th>\n",
       "      <th>9984</th>\n",
       "      <th>9985</th>\n",
       "      <th>9986</th>\n",
       "      <th>9987</th>\n",
       "      <th>9988</th>\n",
       "      <th>9989</th>\n",
       "      <th>9990</th>\n",
       "    </tr>\n",
       "  </thead>\n",
       "  <tbody>\n",
       "    <tr>\n",
       "      <th>0</th>\n",
       "      <td>3330</td>\n",
       "      <td>1988</td>\n",
       "      <td>173</td>\n",
       "      <td>3598</td>\n",
       "      <td>8490</td>\n",
       "      <td>7976</td>\n",
       "      <td>7569</td>\n",
       "      <td>5078</td>\n",
       "      <td>6469</td>\n",
       "      <td>1289</td>\n",
       "      <td>...</td>\n",
       "      <td>2510</td>\n",
       "      <td>6899</td>\n",
       "      <td>6546</td>\n",
       "      <td>4167</td>\n",
       "      <td>7984</td>\n",
       "      <td>8164</td>\n",
       "      <td>1070</td>\n",
       "      <td>8414</td>\n",
       "      <td>6729</td>\n",
       "      <td>9102</td>\n",
       "    </tr>\n",
       "    <tr>\n",
       "      <th>1</th>\n",
       "      <td>9605</td>\n",
       "      <td>9381</td>\n",
       "      <td>3732</td>\n",
       "      <td>2976</td>\n",
       "      <td>1572</td>\n",
       "      <td>8660</td>\n",
       "      <td>8119</td>\n",
       "      <td>5148</td>\n",
       "      <td>1221</td>\n",
       "      <td>7462</td>\n",
       "      <td>...</td>\n",
       "      <td>7601</td>\n",
       "      <td>9390</td>\n",
       "      <td>8867</td>\n",
       "      <td>9576</td>\n",
       "      <td>3052</td>\n",
       "      <td>2461</td>\n",
       "      <td>6959</td>\n",
       "      <td>2377</td>\n",
       "      <td>2117</td>\n",
       "      <td>3784</td>\n",
       "    </tr>\n",
       "    <tr>\n",
       "      <th>2</th>\n",
       "      <td>6916</td>\n",
       "      <td>3629</td>\n",
       "      <td>4708</td>\n",
       "      <td>107</td>\n",
       "      <td>9498</td>\n",
       "      <td>7377</td>\n",
       "      <td>6203</td>\n",
       "      <td>8777</td>\n",
       "      <td>2373</td>\n",
       "      <td>2367</td>\n",
       "      <td>...</td>\n",
       "      <td>823</td>\n",
       "      <td>3252</td>\n",
       "      <td>8910</td>\n",
       "      <td>4749</td>\n",
       "      <td>9156</td>\n",
       "      <td>3875</td>\n",
       "      <td>6658</td>\n",
       "      <td>5267</td>\n",
       "      <td>3127</td>\n",
       "      <td>3078</td>\n",
       "    </tr>\n",
       "    <tr>\n",
       "      <th>3</th>\n",
       "      <td>8273</td>\n",
       "      <td>1703</td>\n",
       "      <td>7849</td>\n",
       "      <td>9125</td>\n",
       "      <td>1120</td>\n",
       "      <td>916</td>\n",
       "      <td>776</td>\n",
       "      <td>3984</td>\n",
       "      <td>521</td>\n",
       "      <td>2484</td>\n",
       "      <td>...</td>\n",
       "      <td>2876</td>\n",
       "      <td>9164</td>\n",
       "      <td>778</td>\n",
       "      <td>7310</td>\n",
       "      <td>1185</td>\n",
       "      <td>56</td>\n",
       "      <td>1112</td>\n",
       "      <td>8104</td>\n",
       "      <td>974</td>\n",
       "      <td>1416</td>\n",
       "    </tr>\n",
       "    <tr>\n",
       "      <th>4</th>\n",
       "      <td>2577</td>\n",
       "      <td>8617</td>\n",
       "      <td>4510</td>\n",
       "      <td>1278</td>\n",
       "      <td>7060</td>\n",
       "      <td>8587</td>\n",
       "      <td>4574</td>\n",
       "      <td>6506</td>\n",
       "      <td>6067</td>\n",
       "      <td>2692</td>\n",
       "      <td>...</td>\n",
       "      <td>1280</td>\n",
       "      <td>8917</td>\n",
       "      <td>199</td>\n",
       "      <td>6512</td>\n",
       "      <td>8317</td>\n",
       "      <td>6359</td>\n",
       "      <td>3620</td>\n",
       "      <td>8183</td>\n",
       "      <td>2540</td>\n",
       "      <td>3562</td>\n",
       "    </tr>\n",
       "    <tr>\n",
       "      <th>...</th>\n",
       "      <td>...</td>\n",
       "      <td>...</td>\n",
       "      <td>...</td>\n",
       "      <td>...</td>\n",
       "      <td>...</td>\n",
       "      <td>...</td>\n",
       "      <td>...</td>\n",
       "      <td>...</td>\n",
       "      <td>...</td>\n",
       "      <td>...</td>\n",
       "      <td>...</td>\n",
       "      <td>...</td>\n",
       "      <td>...</td>\n",
       "      <td>...</td>\n",
       "      <td>...</td>\n",
       "      <td>...</td>\n",
       "      <td>...</td>\n",
       "      <td>...</td>\n",
       "      <td>...</td>\n",
       "      <td>...</td>\n",
       "      <td>...</td>\n",
       "    </tr>\n",
       "    <tr>\n",
       "      <th>595</th>\n",
       "      <td>6336</td>\n",
       "      <td>2653</td>\n",
       "      <td>7734</td>\n",
       "      <td>9002</td>\n",
       "      <td>6985</td>\n",
       "      <td>9963</td>\n",
       "      <td>4232</td>\n",
       "      <td>9577</td>\n",
       "      <td>3632</td>\n",
       "      <td>7129</td>\n",
       "      <td>...</td>\n",
       "      <td>4099</td>\n",
       "      <td>1699</td>\n",
       "      <td>2739</td>\n",
       "      <td>2741</td>\n",
       "      <td>8663</td>\n",
       "      <td>9794</td>\n",
       "      <td>1803</td>\n",
       "      <td>8080</td>\n",
       "      <td>8912</td>\n",
       "      <td>8181</td>\n",
       "    </tr>\n",
       "    <tr>\n",
       "      <th>596</th>\n",
       "      <td>4472</td>\n",
       "      <td>8166</td>\n",
       "      <td>2209</td>\n",
       "      <td>3023</td>\n",
       "      <td>6620</td>\n",
       "      <td>7334</td>\n",
       "      <td>5931</td>\n",
       "      <td>5481</td>\n",
       "      <td>6670</td>\n",
       "      <td>9568</td>\n",
       "      <td>...</td>\n",
       "      <td>6660</td>\n",
       "      <td>8498</td>\n",
       "      <td>8041</td>\n",
       "      <td>8300</td>\n",
       "      <td>9359</td>\n",
       "      <td>5566</td>\n",
       "      <td>4133</td>\n",
       "      <td>7922</td>\n",
       "      <td>3403</td>\n",
       "      <td>7069</td>\n",
       "    </tr>\n",
       "    <tr>\n",
       "      <th>597</th>\n",
       "      <td>546</td>\n",
       "      <td>8594</td>\n",
       "      <td>1399</td>\n",
       "      <td>5774</td>\n",
       "      <td>8312</td>\n",
       "      <td>2335</td>\n",
       "      <td>4577</td>\n",
       "      <td>2956</td>\n",
       "      <td>5137</td>\n",
       "      <td>9895</td>\n",
       "      <td>...</td>\n",
       "      <td>4140</td>\n",
       "      <td>1587</td>\n",
       "      <td>7588</td>\n",
       "      <td>7907</td>\n",
       "      <td>1550</td>\n",
       "      <td>7031</td>\n",
       "      <td>7660</td>\n",
       "      <td>8893</td>\n",
       "      <td>675</td>\n",
       "      <td>6685</td>\n",
       "    </tr>\n",
       "    <tr>\n",
       "      <th>598</th>\n",
       "      <td>1482</td>\n",
       "      <td>1590</td>\n",
       "      <td>4395</td>\n",
       "      <td>7461</td>\n",
       "      <td>7644</td>\n",
       "      <td>7274</td>\n",
       "      <td>8170</td>\n",
       "      <td>9127</td>\n",
       "      <td>3049</td>\n",
       "      <td>5314</td>\n",
       "      <td>...</td>\n",
       "      <td>4451</td>\n",
       "      <td>4961</td>\n",
       "      <td>5608</td>\n",
       "      <td>529</td>\n",
       "      <td>6058</td>\n",
       "      <td>3164</td>\n",
       "      <td>6993</td>\n",
       "      <td>1526</td>\n",
       "      <td>7784</td>\n",
       "      <td>798</td>\n",
       "    </tr>\n",
       "    <tr>\n",
       "      <th>599</th>\n",
       "      <td>174</td>\n",
       "      <td>6708</td>\n",
       "      <td>1901</td>\n",
       "      <td>3029</td>\n",
       "      <td>8217</td>\n",
       "      <td>1780</td>\n",
       "      <td>8453</td>\n",
       "      <td>7118</td>\n",
       "      <td>1737</td>\n",
       "      <td>6071</td>\n",
       "      <td>...</td>\n",
       "      <td>2968</td>\n",
       "      <td>2863</td>\n",
       "      <td>2255</td>\n",
       "      <td>5661</td>\n",
       "      <td>8661</td>\n",
       "      <td>4540</td>\n",
       "      <td>8996</td>\n",
       "      <td>158</td>\n",
       "      <td>8726</td>\n",
       "      <td>3743</td>\n",
       "    </tr>\n",
       "  </tbody>\n",
       "</table>\n",
       "<p>600 rows × 9990 columns</p>\n",
       "</div>"
      ],
      "text/plain": [
       "     1     2     3     4     5     6     7     8     9     10    ...  9981  \\\n",
       "0    3330  1988   173  3598  8490  7976  7569  5078  6469  1289  ...  2510   \n",
       "1    9605  9381  3732  2976  1572  8660  8119  5148  1221  7462  ...  7601   \n",
       "2    6916  3629  4708   107  9498  7377  6203  8777  2373  2367  ...   823   \n",
       "3    8273  1703  7849  9125  1120   916   776  3984   521  2484  ...  2876   \n",
       "4    2577  8617  4510  1278  7060  8587  4574  6506  6067  2692  ...  1280   \n",
       "..    ...   ...   ...   ...   ...   ...   ...   ...   ...   ...  ...   ...   \n",
       "595  6336  2653  7734  9002  6985  9963  4232  9577  3632  7129  ...  4099   \n",
       "596  4472  8166  2209  3023  6620  7334  5931  5481  6670  9568  ...  6660   \n",
       "597   546  8594  1399  5774  8312  2335  4577  2956  5137  9895  ...  4140   \n",
       "598  1482  1590  4395  7461  7644  7274  8170  9127  3049  5314  ...  4451   \n",
       "599   174  6708  1901  3029  8217  1780  8453  7118  1737  6071  ...  2968   \n",
       "\n",
       "     9982  9983  9984  9985  9986  9987  9988  9989  9990  \n",
       "0    6899  6546  4167  7984  8164  1070  8414  6729  9102  \n",
       "1    9390  8867  9576  3052  2461  6959  2377  2117  3784  \n",
       "2    3252  8910  4749  9156  3875  6658  5267  3127  3078  \n",
       "3    9164   778  7310  1185    56  1112  8104   974  1416  \n",
       "4    8917   199  6512  8317  6359  3620  8183  2540  3562  \n",
       "..    ...   ...   ...   ...   ...   ...   ...   ...   ...  \n",
       "595  1699  2739  2741  8663  9794  1803  8080  8912  8181  \n",
       "596  8498  8041  8300  9359  5566  4133  7922  3403  7069  \n",
       "597  1587  7588  7907  1550  7031  7660  8893   675  6685  \n",
       "598  4961  5608   529  6058  3164  6993  1526  7784   798  \n",
       "599  2863  2255  5661  8661  4540  8996   158  8726  3743  \n",
       "\n",
       "[600 rows x 9990 columns]"
      ]
     },
     "execution_count": 3,
     "metadata": {},
     "output_type": "execute_result"
    }
   ],
   "source": [
    "shuffles"
   ]
  },
  {
   "cell_type": "markdown",
   "id": "c166d33c-496b-4509-aa03-2ccdd7e8f129",
   "metadata": {},
   "source": [
    "In the ideal case, the image should be uniformly noisy."
   ]
  },
  {
   "cell_type": "code",
   "execution_count": 4,
   "id": "f6dc3566-8fb7-4023-9e73-1431c4fbbba1",
   "metadata": {},
   "outputs": [
    {
     "data": {
      "text/plain": [
       "<matplotlib.image.AxesImage at 0x7f1d50b29060>"
      ]
     },
     "execution_count": 4,
     "metadata": {},
     "output_type": "execute_result"
    },
    {
     "data": {
      "image/png": "[encoded data removed]",
      "text/plain": [
       "<Figure size 432x288 with 1 Axes>"
      ]
     },
     "metadata": {
      "needs_background": "light"
     },
     "output_type": "display_data"
    }
   ],
   "source": [
    "plt.imshow(shuffles.iloc[:, 1:shuffles.shape[0]])"
   ]
  },
  {
   "cell_type": "code",
   "execution_count": 5,
   "id": "83921d5a-5c25-4426-aea5-0e4c4543d2ea",
   "metadata": {},
   "outputs": [],
   "source": [
    "plt.imsave('full-shuffle.png', shuffles.iloc[:, 1:shuffles.shape[0]])"
   ]
  },
  {
   "cell_type": "markdown",
   "id": "a5e20f2b-87b2-4c95-b565-652772702836",
   "metadata": {},
   "source": [
    "Checking some basic invariants:\n",
    "\n",
    "- All numbers should be present in the shuffle."
   ]
  },
  {
   "cell_type": "code",
   "execution_count": 6,
   "id": "c5d3cee2-9745-4f3f-8307-66e268147fb3",
   "metadata": {},
   "outputs": [],
   "source": [
    "ids = set(range(1, 9991))\n",
    "for index, row in shuffles.iterrows():\n",
    "    as_set = set(row)\n",
    "    assert as_set == ids"
   ]
  },
  {
   "cell_type": "markdown",
   "id": "c69607e0-f370-4098-b896-27d03c5789b5",
   "metadata": {},
   "source": [
    "Trying to find bias in the shuffling, in terms of distribution of multiples. Should lower numbers have better multiples because their multiple is shuffled away?"
   ]
  },
  {
   "cell_type": "code",
   "execution_count": 7,
   "id": "6788ab3e-8647-45ba-8cae-8d53a0a6ea55",
   "metadata": {},
   "outputs": [],
   "source": [
    "def multiple(swapIndex):\n",
    "    if swapIndex <= 3054:\n",
    "        return 6\n",
    "    elif swapIndex <= 5672:\n",
    "        return 7\n",
    "    elif swapIndex <= 7963:\n",
    "        return 8\n",
    "    else:\n",
    "        return 9\n"
   ]
  },
  {
   "cell_type": "code",
   "execution_count": 8,
   "id": "c6e40155-017d-4a31-8861-05e082533962",
   "metadata": {},
   "outputs": [
    {
     "data": {
      "text/html": [
       "<div>\n",
       "<style scoped>\n",
       "    .dataframe tbody tr th:only-of-type {\n",
       "        vertical-align: middle;\n",
       "    }\n",
       "\n",
       "    .dataframe tbody tr th {\n",
       "        vertical-align: top;\n",
       "    }\n",
       "\n",
       "    .dataframe thead th {\n",
       "        text-align: right;\n",
       "    }\n",
       "</style>\n",
       "<table border=\"1\" class=\"dataframe\">\n",
       "  <thead>\n",
       "    <tr style=\"text-align: right;\">\n",
       "      <th></th>\n",
       "      <th>1</th>\n",
       "      <th>2</th>\n",
       "      <th>3</th>\n",
       "      <th>4</th>\n",
       "      <th>5</th>\n",
       "      <th>6</th>\n",
       "      <th>7</th>\n",
       "      <th>8</th>\n",
       "      <th>9</th>\n",
       "      <th>10</th>\n",
       "      <th>...</th>\n",
       "      <th>9981</th>\n",
       "      <th>9982</th>\n",
       "      <th>9983</th>\n",
       "      <th>9984</th>\n",
       "      <th>9985</th>\n",
       "      <th>9986</th>\n",
       "      <th>9987</th>\n",
       "      <th>9988</th>\n",
       "      <th>9989</th>\n",
       "      <th>9990</th>\n",
       "    </tr>\n",
       "  </thead>\n",
       "  <tbody>\n",
       "    <tr>\n",
       "      <th>0</th>\n",
       "      <td>7</td>\n",
       "      <td>6</td>\n",
       "      <td>6</td>\n",
       "      <td>7</td>\n",
       "      <td>9</td>\n",
       "      <td>9</td>\n",
       "      <td>8</td>\n",
       "      <td>7</td>\n",
       "      <td>8</td>\n",
       "      <td>6</td>\n",
       "      <td>...</td>\n",
       "      <td>6</td>\n",
       "      <td>8</td>\n",
       "      <td>8</td>\n",
       "      <td>7</td>\n",
       "      <td>9</td>\n",
       "      <td>9</td>\n",
       "      <td>6</td>\n",
       "      <td>9</td>\n",
       "      <td>8</td>\n",
       "      <td>9</td>\n",
       "    </tr>\n",
       "    <tr>\n",
       "      <th>1</th>\n",
       "      <td>9</td>\n",
       "      <td>9</td>\n",
       "      <td>7</td>\n",
       "      <td>6</td>\n",
       "      <td>6</td>\n",
       "      <td>9</td>\n",
       "      <td>9</td>\n",
       "      <td>7</td>\n",
       "      <td>6</td>\n",
       "      <td>8</td>\n",
       "      <td>...</td>\n",
       "      <td>8</td>\n",
       "      <td>9</td>\n",
       "      <td>9</td>\n",
       "      <td>9</td>\n",
       "      <td>6</td>\n",
       "      <td>6</td>\n",
       "      <td>8</td>\n",
       "      <td>6</td>\n",
       "      <td>6</td>\n",
       "      <td>7</td>\n",
       "    </tr>\n",
       "    <tr>\n",
       "      <th>2</th>\n",
       "      <td>8</td>\n",
       "      <td>7</td>\n",
       "      <td>7</td>\n",
       "      <td>6</td>\n",
       "      <td>9</td>\n",
       "      <td>8</td>\n",
       "      <td>8</td>\n",
       "      <td>9</td>\n",
       "      <td>6</td>\n",
       "      <td>6</td>\n",
       "      <td>...</td>\n",
       "      <td>6</td>\n",
       "      <td>7</td>\n",
       "      <td>9</td>\n",
       "      <td>7</td>\n",
       "      <td>9</td>\n",
       "      <td>7</td>\n",
       "      <td>8</td>\n",
       "      <td>7</td>\n",
       "      <td>7</td>\n",
       "      <td>7</td>\n",
       "    </tr>\n",
       "    <tr>\n",
       "      <th>3</th>\n",
       "      <td>9</td>\n",
       "      <td>6</td>\n",
       "      <td>8</td>\n",
       "      <td>9</td>\n",
       "      <td>6</td>\n",
       "      <td>6</td>\n",
       "      <td>6</td>\n",
       "      <td>7</td>\n",
       "      <td>6</td>\n",
       "      <td>6</td>\n",
       "      <td>...</td>\n",
       "      <td>6</td>\n",
       "      <td>9</td>\n",
       "      <td>6</td>\n",
       "      <td>8</td>\n",
       "      <td>6</td>\n",
       "      <td>6</td>\n",
       "      <td>6</td>\n",
       "      <td>9</td>\n",
       "      <td>6</td>\n",
       "      <td>6</td>\n",
       "    </tr>\n",
       "    <tr>\n",
       "      <th>4</th>\n",
       "      <td>6</td>\n",
       "      <td>9</td>\n",
       "      <td>7</td>\n",
       "      <td>6</td>\n",
       "      <td>8</td>\n",
       "      <td>9</td>\n",
       "      <td>7</td>\n",
       "      <td>8</td>\n",
       "      <td>8</td>\n",
       "      <td>6</td>\n",
       "      <td>...</td>\n",
       "      <td>6</td>\n",
       "      <td>9</td>\n",
       "      <td>6</td>\n",
       "      <td>8</td>\n",
       "      <td>9</td>\n",
       "      <td>8</td>\n",
       "      <td>7</td>\n",
       "      <td>9</td>\n",
       "      <td>6</td>\n",
       "      <td>7</td>\n",
       "    </tr>\n",
       "    <tr>\n",
       "      <th>...</th>\n",
       "      <td>...</td>\n",
       "      <td>...</td>\n",
       "      <td>...</td>\n",
       "      <td>...</td>\n",
       "      <td>...</td>\n",
       "      <td>...</td>\n",
       "      <td>...</td>\n",
       "      <td>...</td>\n",
       "      <td>...</td>\n",
       "      <td>...</td>\n",
       "      <td>...</td>\n",
       "      <td>...</td>\n",
       "      <td>...</td>\n",
       "      <td>...</td>\n",
       "      <td>...</td>\n",
       "      <td>...</td>\n",
       "      <td>...</td>\n",
       "      <td>...</td>\n",
       "      <td>...</td>\n",
       "      <td>...</td>\n",
       "      <td>...</td>\n",
       "    </tr>\n",
       "    <tr>\n",
       "      <th>595</th>\n",
       "      <td>8</td>\n",
       "      <td>6</td>\n",
       "      <td>8</td>\n",
       "      <td>9</td>\n",
       "      <td>8</td>\n",
       "      <td>9</td>\n",
       "      <td>7</td>\n",
       "      <td>9</td>\n",
       "      <td>7</td>\n",
       "      <td>8</td>\n",
       "      <td>...</td>\n",
       "      <td>7</td>\n",
       "      <td>6</td>\n",
       "      <td>6</td>\n",
       "      <td>6</td>\n",
       "      <td>9</td>\n",
       "      <td>9</td>\n",
       "      <td>6</td>\n",
       "      <td>9</td>\n",
       "      <td>9</td>\n",
       "      <td>9</td>\n",
       "    </tr>\n",
       "    <tr>\n",
       "      <th>596</th>\n",
       "      <td>7</td>\n",
       "      <td>9</td>\n",
       "      <td>6</td>\n",
       "      <td>6</td>\n",
       "      <td>8</td>\n",
       "      <td>8</td>\n",
       "      <td>8</td>\n",
       "      <td>7</td>\n",
       "      <td>8</td>\n",
       "      <td>9</td>\n",
       "      <td>...</td>\n",
       "      <td>8</td>\n",
       "      <td>9</td>\n",
       "      <td>9</td>\n",
       "      <td>9</td>\n",
       "      <td>9</td>\n",
       "      <td>7</td>\n",
       "      <td>7</td>\n",
       "      <td>8</td>\n",
       "      <td>7</td>\n",
       "      <td>8</td>\n",
       "    </tr>\n",
       "    <tr>\n",
       "      <th>597</th>\n",
       "      <td>6</td>\n",
       "      <td>9</td>\n",
       "      <td>6</td>\n",
       "      <td>8</td>\n",
       "      <td>9</td>\n",
       "      <td>6</td>\n",
       "      <td>7</td>\n",
       "      <td>6</td>\n",
       "      <td>7</td>\n",
       "      <td>9</td>\n",
       "      <td>...</td>\n",
       "      <td>7</td>\n",
       "      <td>6</td>\n",
       "      <td>8</td>\n",
       "      <td>8</td>\n",
       "      <td>6</td>\n",
       "      <td>8</td>\n",
       "      <td>8</td>\n",
       "      <td>9</td>\n",
       "      <td>6</td>\n",
       "      <td>8</td>\n",
       "    </tr>\n",
       "    <tr>\n",
       "      <th>598</th>\n",
       "      <td>6</td>\n",
       "      <td>6</td>\n",
       "      <td>7</td>\n",
       "      <td>8</td>\n",
       "      <td>8</td>\n",
       "      <td>8</td>\n",
       "      <td>9</td>\n",
       "      <td>9</td>\n",
       "      <td>6</td>\n",
       "      <td>7</td>\n",
       "      <td>...</td>\n",
       "      <td>7</td>\n",
       "      <td>7</td>\n",
       "      <td>7</td>\n",
       "      <td>6</td>\n",
       "      <td>8</td>\n",
       "      <td>7</td>\n",
       "      <td>8</td>\n",
       "      <td>6</td>\n",
       "      <td>8</td>\n",
       "      <td>6</td>\n",
       "    </tr>\n",
       "    <tr>\n",
       "      <th>599</th>\n",
       "      <td>6</td>\n",
       "      <td>8</td>\n",
       "      <td>6</td>\n",
       "      <td>6</td>\n",
       "      <td>9</td>\n",
       "      <td>6</td>\n",
       "      <td>9</td>\n",
       "      <td>8</td>\n",
       "      <td>6</td>\n",
       "      <td>8</td>\n",
       "      <td>...</td>\n",
       "      <td>6</td>\n",
       "      <td>6</td>\n",
       "      <td>6</td>\n",
       "      <td>7</td>\n",
       "      <td>9</td>\n",
       "      <td>7</td>\n",
       "      <td>9</td>\n",
       "      <td>6</td>\n",
       "      <td>9</td>\n",
       "      <td>7</td>\n",
       "    </tr>\n",
       "  </tbody>\n",
       "</table>\n",
       "<p>600 rows × 9990 columns</p>\n",
       "</div>"
      ],
      "text/plain": [
       "     1     2     3     4     5     6     7     8     9     10    ...  9981  \\\n",
       "0       7     6     6     7     9     9     8     7     8     6  ...     6   \n",
       "1       9     9     7     6     6     9     9     7     6     8  ...     8   \n",
       "2       8     7     7     6     9     8     8     9     6     6  ...     6   \n",
       "3       9     6     8     9     6     6     6     7     6     6  ...     6   \n",
       "4       6     9     7     6     8     9     7     8     8     6  ...     6   \n",
       "..    ...   ...   ...   ...   ...   ...   ...   ...   ...   ...  ...   ...   \n",
       "595     8     6     8     9     8     9     7     9     7     8  ...     7   \n",
       "596     7     9     6     6     8     8     8     7     8     9  ...     8   \n",
       "597     6     9     6     8     9     6     7     6     7     9  ...     7   \n",
       "598     6     6     7     8     8     8     9     9     6     7  ...     7   \n",
       "599     6     8     6     6     9     6     9     8     6     8  ...     6   \n",
       "\n",
       "     9982  9983  9984  9985  9986  9987  9988  9989  9990  \n",
       "0       8     8     7     9     9     6     9     8     9  \n",
       "1       9     9     9     6     6     8     6     6     7  \n",
       "2       7     9     7     9     7     8     7     7     7  \n",
       "3       9     6     8     6     6     6     9     6     6  \n",
       "4       9     6     8     9     8     7     9     6     7  \n",
       "..    ...   ...   ...   ...   ...   ...   ...   ...   ...  \n",
       "595     6     6     6     9     9     6     9     9     9  \n",
       "596     9     9     9     9     7     7     8     7     8  \n",
       "597     6     8     8     6     8     8     9     6     8  \n",
       "598     7     7     6     8     7     8     6     8     6  \n",
       "599     6     6     7     9     7     9     6     9     7  \n",
       "\n",
       "[600 rows x 9990 columns]"
      ]
     },
     "execution_count": 8,
     "metadata": {},
     "output_type": "execute_result"
    }
   ],
   "source": [
    "multiples = shuffles.transform(lambda xs: [multiple(x) for x in xs])\n",
    "multiples"
   ]
  },
  {
   "cell_type": "code",
   "execution_count": 9,
   "id": "c6ae50da-d1e0-4283-8b80-7adbccbef906",
   "metadata": {},
   "outputs": [
    {
     "data": {
      "text/plain": [
       "<matplotlib.colorbar.Colorbar at 0x7f1d5098b010>"
      ]
     },
     "execution_count": 9,
     "metadata": {},
     "output_type": "execute_result"
    },
    {
     "data": {
      "image/png": "[encoded data removed]",
      "text/plain": [
       "<Figure size 432x288 with 2 Axes>"
      ]
     },
     "metadata": {
      "needs_background": "light"
     },
     "output_type": "display_data"
    }
   ],
   "source": [
    "im = plt.imshow(multiples.iloc[0:20, 0:20])\n",
    "plt.colorbar(im)"
   ]
  },
  {
   "cell_type": "markdown",
   "id": "e6eb7439-dfc4-4256-8b4e-1febf8443681",
   "metadata": {},
   "source": [
    "| multiple | frequency | range       |\n",
    "|----------|-----------|-------------|\n",
    "|    6     |   3054    | 1-3054      |\n",
    "|    7     |   2618    | 3055 - 5672 | \n",
    "|    8     |   2291    | 5773 - 7973 |\n",
    "|    9     |   2027    | 7974 - 9990 |\n",
    "\n",
    "For a sample of size 20, there should be around 6.1 6s, 5.2 7s, 4.5 8s, 4.0 9s. If there is \n",
    "\n",
    "| multiple | frequency |\n",
    "|----------|-----------|\n",
    "|    6     |   6.1     | \n",
    "|    7     |   2.5     | \n",
    "|    8     |   4.5     |\n",
    "|    9     |   4.0     | \n"
   ]
  },
  {
   "cell_type": "markdown",
   "id": "48dc595b-e23c-49a1-bcf7-c78a44f22c8b",
   "metadata": {},
   "source": [
    "The above plot for the last indices"
   ]
  },
  {
   "cell_type": "code",
   "execution_count": 20,
   "id": "bcd59f3d-d9b9-41b7-bd17-b21f126cdf17",
   "metadata": {},
   "outputs": [
    {
     "data": {
      "image/png": "[encoded data removed]",
      "text/plain": [
       "<Figure size 432x288 with 2 Axes>"
      ]
     },
     "metadata": {
      "needs_background": "light"
     },
     "output_type": "display_data"
    }
   ],
   "source": [
    "im = plt.imshow(multiples.iloc[0:20, -20:])\n",
    "values = [6, 7, 8, 9]\n",
    "plt.colorbar(im, values=values, ticks=values)\n",
    "plt.savefig(\"plot1.pdf\")"
   ]
  },
  {
   "cell_type": "markdown",
   "id": "f9a1a58e-d883-47ba-a26f-2c6dd4e81768",
   "metadata": {},
   "source": [
    "How does it look at the end of the first band? From 3024 to 3044?"
   ]
  },
  {
   "cell_type": "code",
   "execution_count": 21,
   "id": "4466b234-ec79-4c64-a318-1512bc447e22",
   "metadata": {},
   "outputs": [
    {
     "data": {
      "image/png": "[encoded data removed]",
      "text/plain": [
       "<Figure size 432x288 with 2 Axes>"
      ]
     },
     "metadata": {
      "needs_background": "light"
     },
     "output_type": "display_data"
    }
   ],
   "source": [
    "im = plt.imshow(multiples.iloc[0:20, 3023:3044])\n",
    "plt.colorbar(im, values=values, ticks=values)\n",
    "plt.savefig(\"plot2.pdf\")"
   ]
  },
  {
   "cell_type": "markdown",
   "id": "38db3376-9a5b-4b68-a005-b9e4cf5e7e4b",
   "metadata": {},
   "source": [
    "Doesn't really look so biased"
   ]
  },
  {
   "cell_type": "markdown",
   "id": "93dddae4-dbc5-402a-b741-310d634e8e4e",
   "metadata": {},
   "source": [
    "## How likely are fixed points?"
   ]
  },
  {
   "cell_type": "code",
   "execution_count": 94,
   "id": "8d472cb0-9b8c-488b-b344-928015d9044e",
   "metadata": {},
   "outputs": [
    {
     "name": "stdout",
     "output_type": "stream",
     "text": [
      "[(32, 150), (37, 362), (57, 235), (60, 131), (96, 323), (119, 74), (129, 317), (143, 537), (175, 322), (177, 269), (187, 333), (193, 125), (199, 575), (201, 506), (211, 126), (217, 170), (232, 342), (266, 308), (303, 399), (320, 260), (321, 499), (326, 253), (328, 378), (363, 522), (366, 161), (386, 407), (420, 208), (445, 481), (506, 38), (510, 552), (550, 146), (570, 251), (596, 209), (608, 540), (611, 143), (612, 76), (626, 88), (656, 593), (665, 446), (668, 263), (674, 303), (695, 330), (702, 199), (742, 335), (746, 8), (839, 424), (865, 42), (883, 47), (887, 563), (974, 527), (1001, 236), (1022, 238), (1029, 304), (1056, 55), (1077, 264), (1084, 262), (1091, 575), (1098, 311), (1106, 594), (1118, 539), (1132, 194), (1191, 288), (1194, 576), (1250, 64), (1267, 328), (1282, 564), (1287, 520), (1319, 304), (1361, 588), (1386, 79), (1437, 452), (1440, 197), (1456, 206), (1458, 264), (1462, 564), (1476, 539), (1479, 111), (1487, 206), (1492, 472), (1523, 265), (1528, 529), (1543, 580), (1604, 2), (1606, 491), (1665, 593), (1678, 508), (1685, 385), (1726, 325), (1782, 168), (1789, 105), (1828, 312), (1830, 277), (1833, 174), (1837, 321), (1852, 375), (1873, 185), (1883, 531), (1915, 559), (1927, 398), (1941, 421), (1942, 19), (1954, 185), (1961, 400), (1986, 586), (1993, 237), (1995, 379), (2031, 167), (2055, 225), (2065, 246), (2098, 370), (2132, 597), (2134, 436), (2137, 305), (2154, 391), (2173, 96), (2177, 194), (2195, 78), (2201, 150), (2205, 419), (2246, 388), (2264, 12), (2277, 232), (2282, 304), (2289, 514), (2344, 173), (2353, 331), (2360, 562), (2365, 220), (2380, 141), (2388, 305), (2399, 425), (2409, 241), (2413, 95), (2418, 425), (2421, 79), (2446, 538), (2470, 321), (2471, 149), (2483, 306), (2511, 123), (2515, 456), (2542, 42), (2547, 108), (2564, 324), (2579, 35), (2590, 93), (2593, 272), (2630, 40), (2635, 579), (2648, 130), (2658, 157), (2670, 0), (2680, 38), (2681, 558), (2723, 142), (2742, 160), (2755, 250), (2761, 566), (2767, 157), (2799, 93), (2831, 357), (2836, 193), (2865, 16), (2880, 491), (2900, 393), (2902, 599), (2910, 285), (2916, 224), (2938, 489), (2959, 536), (2967, 156), (2971, 306), (3014, 343), (3030, 215), (3040, 467), (3041, 500), (3048, 585), (3101, 372), (3107, 118), (3111, 360), (3117, 518), (3132, 179), (3135, 457), (3182, 407), (3185, 95), (3187, 112), (3213, 344), (3229, 571), (3238, 282), (3245, 135), (3249, 259), (3298, 404), (3339, 293), (3342, 200), (3347, 445), (3348, 598), (3350, 490), (3381, 96), (3388, 77), (3397, 463), (3399, 241), (3402, 297), (3409, 392), (3438, 497), (3449, 3), (3459, 13), (3462, 102), (3467, 395), (3477, 244), (3491, 70), (3502, 399), (3518, 563), (3521, 300), (3522, 142), (3529, 83), (3561, 310), (3575, 333), (3581, 3), (3592, 400), (3637, 149), (3699, 52), (3703, 29), (3714, 178), (3732, 127), (3733, 343), (3745, 63), (3779, 206), (3827, 236), (3841, 588), (3926, 151), (3976, 499), (3991, 394), (3996, 129), (4010, 489), (4064, 377), (4077, 230), (4140, 431), (4165, 232), (4168, 510), (4178, 400), (4180, 284), (4194, 284), (4201, 111), (4210, 7), (4211, 20), (4227, 510), (4236, 312), (4242, 178), (4246, 341), (4247, 75), (4257, 410), (4267, 84), (4278, 422), (4304, 448), (4353, 146), (4375, 565), (4380, 75), (4382, 445), (4441, 503), (4442, 404), (4450, 108), (4454, 577), (4455, 245), (4481, 276), (4493, 244), (4498, 404), (4519, 138), (4528, 585), (4545, 308), (4551, 120), (4557, 401), (4574, 47), (4589, 14), (4592, 244), (4598, 536), (4643, 587), (4658, 530), (4665, 6), (4668, 44), (4671, 433), (4680, 277), (4730, 91), (4736, 60), (4747, 581), (4797, 428), (4849, 237), (4869, 140), (4873, 38), (4891, 484), (4930, 515), (4947, 337), (5016, 101), (5023, 379), (5029, 225), (5032, 329), (5044, 563), (5047, 103), (5079, 449), (5082, 446), (5083, 9), (5101, 287), (5167, 395), (5181, 192), (5199, 583), (5205, 369), (5227, 443), (5234, 412), (5268, 264), (5281, 109), (5286, 591), (5367, 63), (5392, 597), (5401, 564), (5415, 266), (5419, 244), (5447, 393), (5450, 373), (5467, 559), (5478, 534), (5518, 360), (5521, 517), (5523, 415), (5526, 591), (5547, 336), (5564, 294), (5585, 574), (5609, 82), (5620, 437), (5638, 224), (5686, 385), (5701, 558), (5723, 506), (5746, 102), (5761, 268), (5769, 448), (5772, 350), (5775, 156), (5789, 386), (5790, 345), (5800, 515), (5801, 370), (5805, 169), (5831, 444), (5840, 248), (5846, 294), (5875, 212), (5895, 321), (5897, 311), (5898, 216), (5911, 458), (5926, 128), (5939, 455), (5950, 414), (5955, 122), (5964, 250), (5979, 363), (5986, 329), (5988, 169), (6001, 538), (6047, 357), (6059, 239), (6068, 563), (6123, 283), (6126, 159), (6131, 323), (6144, 139), (6152, 452), (6153, 423), (6169, 461), (6186, 412), (6188, 496), (6194, 329), (6199, 274), (6213, 259), (6215, 243), (6257, 542), (6267, 472), (6279, 572), (6303, 244), (6320, 81), (6366, 401), (6382, 487), (6386, 32), (6388, 140), (6417, 125), (6419, 587), (6429, 123), (6440, 575), (6443, 158), (6446, 252), (6473, 532), (6480, 575), (6486, 173), (6504, 123), (6536, 428), (6555, 279), (6556, 298), (6571, 535), (6611, 182), (6618, 51), (6652, 132), (6668, 368), (6725, 518), (6738, 281), (6740, 223), (6753, 131), (6755, 22), (6763, 339), (6773, 572), (6794, 384), (6797, 192), (6800, 580), (6826, 2), (6829, 290), (6839, 291), (6849, 192), (6857, 346), (6859, 588), (6865, 590), (6871, 259), (6889, 241), (6895, 171), (6897, 12), (6915, 564), (6921, 450), (6945, 400), (6965, 447), (6970, 118), (6973, 380), (6992, 366), (7013, 345), (7060, 453), (7077, 200), (7079, 317), (7081, 577), (7084, 182), (7087, 468), (7107, 346), (7118, 558), (7132, 376), (7140, 248), (7210, 65), (7238, 292), (7241, 24), (7278, 114), (7287, 96), (7368, 187), (7371, 501), (7405, 500), (7410, 384), (7451, 451), (7462, 81), (7479, 140), (7483, 79), (7509, 487), (7551, 594), (7553, 213), (7577, 32), (7579, 574), (7590, 483), (7599, 70), (7600, 150), (7604, 178), (7611, 463), (7637, 241), (7655, 149), (7678, 169), (7681, 372), (7730, 102), (7753, 196), (7781, 503), (7820, 243), (7833, 585), (7843, 342), (7861, 249), (7878, 104), (7895, 223), (7946, 551), (7958, 530), (7967, 508), (7972, 340), (7978, 296), (7981, 598), (7988, 62), (7991, 470), (7998, 90), (8004, 229), (8022, 167), (8026, 300), (8032, 216), (8053, 457), (8067, 179), (8072, 399), (8097, 459), (8117, 242), (8128, 495), (8129, 486), (8131, 33), (8146, 297), (8207, 585), (8208, 248), (8230, 316), (8244, 390), (8300, 158), (8303, 528), (8310, 545), (8314, 343), (8348, 171), (8351, 532), (8383, 592), (8385, 524), (8430, 347), (8450, 359), (8458, 394), (8471, 526), (8481, 484), (8492, 316), (8513, 423), (8540, 383), (8549, 593), (8568, 332), (8576, 39), (8597, 411), (8607, 22), (8619, 127), (8620, 153), (8664, 139), (8672, 443), (8681, 93), (8729, 48), (8754, 465), (8768, 192), (8832, 337), (8835, 29), (8841, 34), (8849, 592), (8886, 13), (8896, 39), (8904, 75), (8927, 195), (8940, 422), (8955, 256), (8982, 221), (8987, 184), (9007, 346), (9017, 576), (9019, 445), (9031, 519), (9033, 71), (9060, 414), (9071, 517), (9089, 271), (9121, 60), (9124, 526), (9131, 442), (9132, 405), (9149, 307), (9186, 41), (9189, 412), (9267, 544), (9290, 53), (9322, 493), (9355, 215), (9367, 539), (9373, 386), (9389, 332), (9406, 522), (9411, 477), (9415, 119), (9427, 477), (9445, 313), (9482, 34), (9493, 538), (9498, 33), (9499, 342), (9508, 134), (9517, 412), (9542, 177), (9550, 230), (9628, 347), (9658, 234), (9673, 401), (9680, 32), (9711, 42), (9738, 437), (9751, 544), (9753, 370), (9766, 41), (9789, 355), (9791, 270), (9809, 361), (9815, 316), (9826, 55), (9832, 159), (9841, 209), (9856, 9), (9871, 228), (9879, 278), (9896, 567), (9909, 540), (9962, 451), (9971, 34), (9979, 170), (9980, 305)]\n"
     ]
    }
   ],
   "source": [
    "indices = []\n",
    "for idx in range(1, 9991):\n",
    "    fixed = shuffles[shuffles[idx] == idx]\n",
    "    if not fixed.empty:\n",
    "        indices.append((idx, fixed.index.tolist()[0]))\n",
    "print(indices)"
   ]
  },
  {
   "cell_type": "code",
   "execution_count": 80,
   "id": "6d3b0f6f-7953-4b96-bf6a-e7d15ab69871",
   "metadata": {},
   "outputs": [
    {
     "name": "stdout",
     "output_type": "stream",
     "text": [
      "9980\n",
      "6753\n"
     ]
    }
   ],
   "source": [
    "print(shuffles[9980].loc[305])\n",
    "print(shuffles[6753].loc[131])"
   ]
  },
  {
   "cell_type": "markdown",
   "id": "1341b808-81ee-4bba-aae2-f16e3e09ad64",
   "metadata": {},
   "source": [
    "### Probability of this happening:"
   ]
  },
  {
   "cell_type": "code",
   "execution_count": 85,
   "id": "2b3508a8-8653-49eb-a7f4-8679038bb8b0",
   "metadata": {},
   "outputs": [
    {
     "data": {
      "text/plain": [
       "604"
      ]
     },
     "execution_count": 85,
     "metadata": {},
     "output_type": "execute_result"
    }
   ],
   "source": [
    "len(indices)"
   ]
  },
  {
   "cell_type": "markdown",
   "id": "976a9a10-5cbf-4b9f-9de4-feed6c997a5b",
   "metadata": {},
   "source": [
    "#### Probability of this happening overall"
   ]
  },
  {
   "cell_type": "code",
   "execution_count": 88,
   "id": "28d0ef6e-d772-4487-8738-0bb52f877463",
   "metadata": {},
   "outputs": [
    {
     "name": "stdout",
     "output_type": "stream",
     "text": [
      "0.00010076743410076744\n"
     ]
    }
   ],
   "source": [
    "print(len(indices) / (600 * 9990))"
   ]
  },
  {
   "cell_type": "markdown",
   "id": "9eb7b38d-7968-4e31-8b29-244d88fec0a0",
   "metadata": {},
   "source": [
    "#### Expected number of times this happens in a reveal of 1, ..., 9990"
   ]
  },
  {
   "cell_type": "code",
   "execution_count": 91,
   "id": "f3ec1dd7-5180-4526-a7d5-1e3c75b0c985",
   "metadata": {},
   "outputs": [
    {
     "name": "stdout",
     "output_type": "stream",
     "text": [
      "1.0066666666666666\n"
     ]
    }
   ],
   "source": [
    "print(len(indices) / 600)"
   ]
  },
  {
   "cell_type": "code",
   "execution_count": 99,
   "id": "5c6e36fd-79a5-4000-980a-862e5b781654",
   "metadata": {},
   "outputs": [
    {
     "data": {
      "text/plain": [
       "377"
      ]
     },
     "execution_count": 99,
     "metadata": {},
     "output_type": "execute_result"
    }
   ],
   "source": [
    "len(set([b for (a, b) in indices]))"
   ]
  },
  {
   "cell_type": "markdown",
   "id": "059eeaf1-0c68-4caf-9092-c49b7f9a8937",
   "metadata": {},
   "source": [
    "Probability should converge to $1 - \\frac{1}{e} \\approx 0.63$. Using https://en.wikipedia.org/wiki/Derangement#Growth_of_number_of_derangements_as_n_approaches_%E2%88%9E"
   ]
  },
  {
   "cell_type": "code",
   "execution_count": 171,
   "id": "b28e6c1c-b1dd-4791-ac1d-f4534960f43e",
   "metadata": {},
   "outputs": [
    {
     "data": {
      "text/plain": [
       "0.6283333333333333"
      ]
     },
     "execution_count": 171,
     "metadata": {},
     "output_type": "execute_result"
    }
   ],
   "source": [
    "377 / 600"
   ]
  }
 ],
 "metadata": {
  "kernelspec": {
   "display_name": "Python 3 (ipykernel)",
   "language": "python",
   "name": "python3"
  },
  "language_info": {
   "codemirror_mode": {
    "name": "ipython",
    "version": 3
   },
   "file_extension": ".py",
   "mimetype": "text/x-python",
   "name": "python",
   "nbconvert_exporter": "python",
   "pygments_lexer": "ipython3",
   "version": "3.10.5"
  }
 },
 "nbformat": 4,
 "nbformat_minor": 5
}
